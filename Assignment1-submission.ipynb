{
 "cells": [
  {
   "cell_type": "code",
   "execution_count": 1,
   "id": "cf1bde47",
   "metadata": {},
   "outputs": [],
   "source": [
    "import cv2\n",
    "import re\n",
    "import numpy as np\n",
    "import pandas as pd\n",
    "from pdf2image import convert_from_path\n",
    "import pytesseract\n",
    "from scipy.ndimage import interpolation as inter\n",
    "pytesseract.pytesseract.tesseract_cmd = r'C:\\Program Files\\Tesseract-OCR\\tesseract.exe'"
   ]
  },
  {
   "cell_type": "code",
   "execution_count": 2,
   "id": "3fb2440d",
   "metadata": {},
   "outputs": [],
   "source": [
    "#convert pdf to image\n",
    "pages = convert_from_path(r'data_sample.pdf', 500)\n",
    "for page in pages:\n",
    "    page.save('out.jpg', 'JPEG')\n",
    "img = cv2.imread(r'out.jpg')"
   ]
  },
  {
   "cell_type": "code",
   "execution_count": 3,
   "id": "b79cdb03",
   "metadata": {},
   "outputs": [],
   "source": [
    "def correct_skew(image, delta=2, limit=5):\n",
    "    def determine_score(arr, angle):\n",
    "        data = inter.rotate(arr, angle, reshape=False, order=0)\n",
    "        histogram = np.sum(data, axis=1, dtype=float)\n",
    "        score = np.sum((histogram[1:] - histogram[:-1]) ** 2, dtype=float)\n",
    "        return histogram, score\n",
    "\n",
    "    gray = cv2.cvtColor(image, cv2.COLOR_BGR2GRAY)\n",
    "    thresh = cv2.threshold(gray, 0, 255, cv2.THRESH_BINARY_INV + cv2.THRESH_OTSU)[1] \n",
    "\n",
    "    scores = []\n",
    "    angles = np.arange(-limit, limit + delta, delta)\n",
    "    for angle in angles:\n",
    "        histogram, score = determine_score(thresh, angle)\n",
    "        scores.append(score)\n",
    "\n",
    "    best_angle = angles[scores.index(max(scores))]\n",
    "\n",
    "    (h, w) = image.shape[:2]\n",
    "    center = (w // 2, h // 2)\n",
    "    M = cv2.getRotationMatrix2D(center, best_angle, 1.0)\n",
    "    corrected = cv2.warpAffine(image, M, (w, h), flags=cv2.INTER_CUBIC, \\\n",
    "            borderMode=cv2.BORDER_REPLICATE)\n",
    "\n",
    "    return best_angle, corrected"
   ]
  },
  {
   "cell_type": "code",
   "execution_count": 4,
   "id": "f3019d94",
   "metadata": {},
   "outputs": [
    {
     "name": "stderr",
     "output_type": "stream",
     "text": [
      "C:\\Users\\User\\AppData\\Local\\Temp\\ipykernel_8620\\244716956.py:3: DeprecationWarning: Please use `rotate` from the `scipy.ndimage` namespace, the `scipy.ndimage.interpolation` namespace is deprecated.\n",
      "  data = inter.rotate(arr, angle, reshape=False, order=0)\n"
     ]
    }
   ],
   "source": [
    "#skew correction of text in image\n",
    "best_angle, corrected = correct_skew(img)"
   ]
  },
  {
   "cell_type": "code",
   "execution_count": 6,
   "id": "3e49b4a7",
   "metadata": {},
   "outputs": [
    {
     "data": {
      "text/plain": [
       "True"
      ]
     },
     "execution_count": 6,
     "metadata": {},
     "output_type": "execute_result"
    }
   ],
   "source": [
    "#extract field names, field types and Description\n",
    "corrected1 = corrected.copy()\n",
    "field_name = []\n",
    "field_type = []\n",
    "field_name_cordinates = []\n",
    "field_type_cordinates = []\n",
    "text_cordinates = []\n",
    "description = []\n",
    "code  = []\n",
    "code_cord = []\n",
    "pattern = re.compile(r\"\\(.*?-.*?\\)\")\n",
    "pattern1 = re.compile(r\"\\(\\d\\)\")\n",
    "gray = cv2.cvtColor(corrected, cv2.COLOR_BGR2GRAY)\n",
    "blur = cv2.GaussianBlur(gray, (7,7), 0)\n",
    "thresh = cv2.threshold(blur, 0, 255, cv2.THRESH_BINARY_INV + cv2.THRESH_OTSU)[1]\n",
    "# Create rectangular structuring element and dilate\n",
    "kernel = cv2.getStructuringElement(cv2.MORPH_RECT, (5,5))\n",
    "dilate = cv2.dilate(thresh, kernel, iterations=4)\n",
    "# Find contours and draw rectangle\n",
    "cnts = cv2.findContours(dilate, cv2.RETR_EXTERNAL, cv2.CHAIN_APPROX_SIMPLE)\n",
    "cnts = cnts[0] if len(cnts) == 2 else cnts[1]\n",
    "for c in cnts:\n",
    "    x,y,w,h = cv2.boundingRect(c)\n",
    "    cropped = corrected1[y:y + h, x:x + w]\n",
    "    text = pytesseract.image_to_string(cropped)\n",
    "    text_cordinates.append([x,y,w,h])\n",
    "    #search for field name pattern\n",
    "    if re.search(pattern, text):\n",
    "        field_name.append(text.strip())\n",
    "        cv2.rectangle(corrected1, (x, y), (x + w, y + h), (36,255,12), 2)\n",
    "        field_name_cordinates.append([x,y,w,h])\n",
    "    # search for field type pattern\n",
    "    if re.search(pattern1, text):\n",
    "        field_type.append(text.strip())\n",
    "        field_type_cordinates.append([x,y,w,h])\n",
    "        cv2.rectangle(corrected1, (x, y), (x + w, y + h), (36,255,12), 2)\n",
    "    # search for the text area above field types as backup \n",
    "    if 'SC' in text:\n",
    "        code.append(text)\n",
    "        code_cord.append([x,y,w,h])  \n",
    "#sort the items in reverse order\n",
    "field_name_cordinates = field_name_cordinates[::-1]\n",
    "field_type_cordinates = field_type_cordinates[::-1]\n",
    "#identify last text area in the image to draw bounding box\n",
    "last_block = field_name_cordinates[-1]\n",
    "last_item = field_type_cordinates[-1]\n",
    "# identify  and extract description from image\n",
    "for f,b in zip(field_name_cordinates,field_type_cordinates):\n",
    "    cropped = corrected1[f[1]+f[3]+10:b[1]-100, f[0]:b[0]+b[2]]\n",
    "    text = pytesseract.image_to_string(cropped)\n",
    "    cv2.rectangle(corrected1,(f[0],f[1]+f[3]+10),(b[0]+b[2],b[1]-100),(255,0,0), 2)\n",
    "    description.append(text.strip())\n",
    "\n",
    "cropped = corrected1[last_block[1]+50:text_cordinates[0][1], last_block[0] :last_item[0]+last_item[3] + 30 ]\n",
    "text = pytesseract.image_to_string(cropped)\n",
    "description.append(text.strip())\n",
    "cv2.rectangle(corrected1,(last_block[0],last_block[1]+last_block[3]+10),(last_item[0]+last_item[2],text_cordinates[0][1]+text_cordinates[0][3]),(255,0,0), 2)\n",
    "\n",
    "field_name = field_name[::-1]\n",
    "field_type = field_type[::-1] \n",
    "code_cord = code_cord[::-1]\n",
    "\n",
    "if len(field_name) != len(field_type):\n",
    "    x = 110 + code_cord[0][0]\n",
    "    y = code_cord[0][1] + 50\n",
    "    w = field_type_cordinates[0][2] + 10\n",
    "    h = 20 + field_type_cordinates[0][3]\n",
    "    cropped = corrected1[y:y + h, x:x + w]\n",
    "    text = pytesseract.image_to_string(cropped)\n",
    "    field_type.insert(0,text.strip())\n",
    "    field_type_cordinates.insert(0,[x,y,w,h])\n",
    "    cv2.rectangle(corrected1, (x, y), (x + w, y + h), (36,255,12), 2) \n",
    "cv2.imwrite(\"output2.jpg\", corrected1)"
   ]
  },
  {
   "cell_type": "code",
   "execution_count": 7,
   "id": "0642b9b2",
   "metadata": {},
   "outputs": [],
   "source": [
    "# save the data to Dataframe\n",
    "df = pd.DataFrame({'field_name': field_name,'field_type': field_type,'field_description ': description})"
   ]
  },
  {
   "cell_type": "code",
   "execution_count": 9,
   "id": "833ecfea",
   "metadata": {},
   "outputs": [],
   "source": [
    "df.to_csv('output.csv')"
   ]
  },
  {
   "cell_type": "code",
   "execution_count": null,
   "id": "a4dddebd",
   "metadata": {},
   "outputs": [],
   "source": []
  }
 ],
 "metadata": {
  "kernelspec": {
   "display_name": "Python 3 (ipykernel)",
   "language": "python",
   "name": "python3"
  },
  "language_info": {
   "codemirror_mode": {
    "name": "ipython",
    "version": 3
   },
   "file_extension": ".py",
   "mimetype": "text/x-python",
   "name": "python",
   "nbconvert_exporter": "python",
   "pygments_lexer": "ipython3",
   "version": "3.10.4"
  }
 },
 "nbformat": 4,
 "nbformat_minor": 5
}
